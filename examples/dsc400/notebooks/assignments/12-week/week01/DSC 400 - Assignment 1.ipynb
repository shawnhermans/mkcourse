{
 "cells": [
  {
   "cell_type": "markdown",
   "metadata": {},
   "source": [
    "# Introduction to Big Data"
   ]
  },
  {
   "cell_type": "code",
   "execution_count": 12,
   "metadata": {},
   "outputs": [],
   "source": [
    "import pandas as pd\n",
    "from collections import namedtuple\n",
    "\n",
    "units = dict(\n",
    "    B=1,     # byte\n",
    "    kB=1e3,  # kilobyte\n",
    "    MB=1e6,  # megabyte\n",
    "    GB=1e9,  # gigabyte\n",
    "    TB=1e12, # terabyte\n",
    "    PB=1e15, # petabyte\n",
    "    EB=1e18, # exabyte\n",
    "    ZB=1e21, # zettabyte\n",
    "    YB=1e24, # yottabyte\n",
    ")"
   ]
  },
  {
   "cell_type": "markdown",
   "metadata": {},
   "source": [
    "## Assignment 1\n",
    "\n",
    "Have them diagram a solution with Networkx or another graph visualization library?\n"
   ]
  },
  {
   "cell_type": "markdown",
   "metadata": {},
   "source": [
    "### Assignment 1.1\n",
    "\n",
    "Give examples of stuff that ...\n",
    "\n",
    "Prescriptive, descriptive ..."
   ]
  },
  {
   "cell_type": "code",
   "execution_count": null,
   "metadata": {},
   "outputs": [],
   "source": []
  },
  {
   "cell_type": "markdown",
   "metadata": {},
   "source": [
    "### Assignment 1.2\n",
    "\n",
    "Volume and velocity\n",
    "\n",
    "For the rest of the assignment, you will answer questions about scaling and maintaining data-driven systems."
   ]
  },
  {
   "cell_type": "markdown",
   "metadata": {},
   "source": [
    "#### Assignment 1.2.a\n",
    "\n",
    "Provide estimates for the size of various data items.  Please explain how you arrived at the estimates for the size of each item by citing references or providing calculations. \n",
    "\n",
    "* Assume all videos are 30 frames per second\n",
    "* [HEVC](https://en.wikipedia.org/wiki/High_Efficiency_Video_Coding) stands for High Efficiency Video Coding\n",
    "* See the Wikipedia article on [display resolution](https://en.wikipedia.org/wiki/Display_resolution) for information on HD (1080p) and 4K UHD resolutions. "
   ]
  },
  {
   "cell_type": "markdown",
   "metadata": {},
   "source": [
    "| Data Item                                  | Size per Item | \n",
    "|:-------------------------------------------|--------------:|\n",
    "| 128 character message.                     | ? Bytes       |\n",
    "| 1024x768 PNG image                         | ? MB          |\n",
    "| 1024x768 RAW image                         | ? MB          | \n",
    "| HD (1080p) HEVC Video (15 minutes)         | ? MB          |\n",
    "| HD (1080p) Uncompressed Video (15 minutes) | ? MB          |\n",
    "| 4K UHD HEVC Video (15 minutes)             | ? MB          |\n",
    "| 4k UHD Uncompressed Video (15 minutes)     | ? MB          |\n",
    "| Human Genome (Uncompressed)                | ? GB          |"
   ]
  },
  {
   "cell_type": "markdown",
   "metadata": {},
   "source": [
    "#### Assignment 1.2.b\n",
    "\n",
    "Using the estimates for data sizes in the previous part, determine how much storage space you would need for the following items.\n",
    "\n",
    "* For estimating the number of hard drives, assume you are using 10 TB and you are storing the data using the Hadoop Distributed File System (HDFS).  By default, HDFS stores three copies of each piece of data, so you will need to triple the amount storage required. \n",
    "* [Twitter statistics](https://www.internetlivestats.com/twitter-statistics/) estimates 500 million tweets are sent each day. For simplicity, assume each tweet is 128 characters. \n",
    "* See the [Snappy Github repository](https://github.com/google/snappy) for estimates of Snappy's performance. \n",
    "* [Instagram statistics](https://www.omnicoreagency.com/instagram-statistics/) estimates over 100 million videos and photos are uploaded to Instagram every day.   Assume that 75% of those items are 1024x768 PNG photos.\n",
    "* [YouTube statistics](https://www.omnicoreagency.com/youtube-statistics/) estimates 500 hours of video is uploaded to YouTube every minute.  For simplicity, assume all videos are HD quality encoded using HEVC at 30 frames per second. "
   ]
  },
  {
   "cell_type": "markdown",
   "metadata": {},
   "source": [
    "|                                           | Size     | Number of Hard Drives | \n",
    "|:------------------------------------------|---------:|----------------------:|\n",
    "| Daily Twitter Tweets (Uncompressed)       | ??? TB   |                       |\n",
    "| Daily Twitter Tweets (Snappy Compressed)  | ??? PB   |                       |\n",
    "| Daily Instagram Photos                    | ??? GB   |                       |\n",
    "| Daily YouTube Videos                      | ??? EB   |                       |\n",
    "| Yearly Twitter Tweets (Uncompressed)      | ??? LB   |                       |\n",
    "| Yearly Twitter Tweets (Snappy Compressed) | ??? QB   |                       |\n",
    "| Yearly Instagram Photos                   | ??? NB   |                       |\n",
    "| Yearly YouTube Videos                     | ??? XB   |                       |"
   ]
  },
  {
   "cell_type": "markdown",
   "metadata": {},
   "source": [
    "#### Assignment 1.2.c\n",
    "\n",
    "Provide estimates of the one way latency for each of the following items.  Please explain how you arrived at the estimates for each item by citing references or providing calculations. "
   ]
  },
  {
   "cell_type": "markdown",
   "metadata": {},
   "source": [
    "|                           | One Way Latency      |\n",
    "|:--------------------------|---------------------:|\n",
    "| Los Angeles to Amsterdam  | ? ms                 |\n",
    "| Low Earth Orbit Satellite | ? ms                 |\n",
    "| Geostationary Satellite   | ? ms                 |\n",
    "| Earth to the Moon         | ? ms                 |\n",
    "| Earth to Mars             | ? minutes            | "
   ]
  },
  {
   "cell_type": "markdown",
   "metadata": {},
   "source": [
    "### Assignment 1.3\n",
    "\n",
    "diagram out a few example workflows"
   ]
  },
  {
   "cell_type": "code",
   "execution_count": null,
   "metadata": {},
   "outputs": [],
   "source": []
  }
 ],
 "metadata": {
  "kernelspec": {
   "display_name": "Python 3",
   "language": "python",
   "name": "python3"
  },
  "language_info": {
   "codemirror_mode": {
    "name": "ipython",
    "version": 3
   },
   "file_extension": ".py",
   "mimetype": "text/x-python",
   "name": "python",
   "nbconvert_exporter": "python",
   "pygments_lexer": "ipython3",
   "version": "3.8.5"
  }
 },
 "nbformat": 4,
 "nbformat_minor": 4
}
